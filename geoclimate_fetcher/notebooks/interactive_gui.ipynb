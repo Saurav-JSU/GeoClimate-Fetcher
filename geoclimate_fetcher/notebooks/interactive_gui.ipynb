{
 "cells": [
  {
   "cell_type": "markdown",
   "metadata": {},
   "source": [
    "# GeoClimate-Fetcher Interactive GUI\n",
    "\n",
    "This notebook provides an interactive interface for downloading climate data from Google Earth Engine.\n",
    "\n",
    "## Workflow\n",
    "\n",
    "1. Authenticate with Google Earth Engine\n",
    "2. Select an area of interest\n",
    "3. Choose a dataset and bands\n",
    "4. Set time range\n",
    "5. Configure and run the download"
   ]
  },
  {
   "cell_type": "code",
   "execution_count": 1,
   "metadata": {},
   "outputs": [
    {
     "ename": "ModuleNotFoundError",
     "evalue": "No module named 'geoclimate_fetcher'",
     "output_type": "error",
     "traceback": [
      "\u001b[1;31m---------------------------------------------------------------------------\u001b[0m",
      "\u001b[1;31mModuleNotFoundError\u001b[0m                       Traceback (most recent call last)",
      "Cell \u001b[1;32mIn[1], line 12\u001b[0m\n\u001b[0;32m      9\u001b[0m \u001b[38;5;28;01mimport\u001b[39;00m\u001b[38;5;250m \u001b[39m\u001b[38;5;21;01mgeemap\u001b[39;00m\n\u001b[0;32m     11\u001b[0m \u001b[38;5;66;03m# Import GeoClimate-Fetcher modules\u001b[39;00m\n\u001b[1;32m---> 12\u001b[0m \u001b[38;5;28;01mfrom\u001b[39;00m\u001b[38;5;250m \u001b[39m\u001b[38;5;21;01mgeoclimate_fetcher\u001b[39;00m\u001b[38;5;21;01m.\u001b[39;00m\u001b[38;5;21;01mcore\u001b[39;00m\u001b[38;5;250m \u001b[39m\u001b[38;5;28;01mimport\u001b[39;00m (\n\u001b[0;32m     13\u001b[0m     authenticate,\n\u001b[0;32m     14\u001b[0m     MetadataCatalog,\n\u001b[0;32m     15\u001b[0m     GeometryHandler,\n\u001b[0;32m     16\u001b[0m     GEEExporter, \n\u001b[0;32m     17\u001b[0m     ImageCollectionFetcher,\n\u001b[0;32m     18\u001b[0m     StaticRasterFetcher\n\u001b[0;32m     19\u001b[0m )\n\u001b[0;32m     21\u001b[0m \u001b[38;5;28;01mfrom\u001b[39;00m\u001b[38;5;250m \u001b[39m\u001b[38;5;21;01mgeoclimate_fetcher\u001b[39;00m\u001b[38;5;21;01m.\u001b[39;00m\u001b[38;5;21;01mui\u001b[39;00m\u001b[38;5;250m \u001b[39m\u001b[38;5;28;01mimport\u001b[39;00m (\n\u001b[0;32m     22\u001b[0m     AuthWidget, \n\u001b[0;32m     23\u001b[0m     MapWidget,\n\u001b[1;32m   (...)\u001b[0m\n\u001b[0;32m     27\u001b[0m     DownloadDialogWidget\n\u001b[0;32m     28\u001b[0m )\n",
      "\u001b[1;31mModuleNotFoundError\u001b[0m: No module named 'geoclimate_fetcher'"
     ]
    }
   ],
   "source": [
    "# Import required libraries\n",
    "import os\n",
    "import sys\n",
    "import ipywidgets as widgets\n",
    "from IPython.display import display, clear_output\n",
    "import ee\n",
    "from datetime import datetime, date\n",
    "from pathlib import Path\n",
    "import geemap\n",
    "\n",
    "# Import GeoClimate-Fetcher modules\n",
    "from geoclimate_fetcher.core import (\n",
    "    authenticate,\n",
    "    MetadataCatalog,\n",
    "    GeometryHandler,\n",
    "    GEEExporter, \n",
    "    ImageCollectionFetcher,\n",
    "    StaticRasterFetcher\n",
    ")\n",
    "\n",
    "from geoclimate_fetcher.ui import (\n",
    "    AuthWidget, \n",
    "    MapWidget,\n",
    "    DatasetPickerWidget,\n",
    "    BandPickerWidget, \n",
    "    TimeSliderWidget,\n",
    "    DownloadDialogWidget\n",
    ")"
   ]
  },
  {
   "cell_type": "markdown",
   "metadata": {},
   "source": [
    "## 0. Setup and Initialization\n",
    "\n",
    "Initialize necessary global variables and objects."
   ]
  },
  {
   "cell_type": "code",
   "execution_count": null,
   "metadata": {},
   "outputs": [],
   "source": [
    "# Create core objects\n",
    "metadata_catalog = MetadataCatalog()\n",
    "geometry_handler = GeometryHandler()\n",
    "exporter = GEEExporter()\n",
    "\n",
    "# Initialize state variables\n",
    "auth_complete = False\n",
    "geometry_complete = False\n",
    "dataset_selected = False\n",
    "bands_selected = False\n",
    "dates_selected = False\n",
    "\n",
    "# Data parameters\n",
    "current_dataset = None\n",
    "selected_bands = []\n",
    "start_date = None\n",
    "end_date = None\n",
    "snippet_type = None\n",
    "download_path = None"
   ]
  },
  {
   "cell_type": "markdown",
   "metadata": {},
   "source": [
    "## 1. Authentication\n",
    "\n",
    "First, you must authenticate with Google Earth Engine. Enter your GEE Project ID to continue."
   ]
  },
  {
   "cell_type": "code",
   "execution_count": null,
   "metadata": {},
   "outputs": [],
   "source": [
    "# Callback for successful authentication\n",
    "def on_auth_success(auth):\n",
    "    global auth_complete\n",
    "    auth_complete = True\n",
    "    show_main_workflow()\n",
    "\n",
    "# Show the main workflow after authentication\n",
    "def show_main_workflow():\n",
    "    if not auth_complete:\n",
    "        print(\"Please authenticate first.\")\n",
    "        return\n",
    "    # Show the AOI selection widget\n",
    "    clear_output()\n",
    "    print(\"Authentication successful. Please select an area of interest.\")\n",
    "    map_widget.display()\n",
    "\n",
    "# Initialize the authentication widget\n",
    "auth_widget = AuthWidget(on_auth_success=on_auth_success)\n",
    "auth_widget.display()"
   ]
  },
  {
   "cell_type": "markdown",
   "metadata": {},
   "source": [
    "## 2. Area of Interest\n",
    "\n",
    "After authentication, use the map to draw an area of interest or import a GeoJSON/Shapefile."
   ]
  },
  {
   "cell_type": "code",
   "execution_count": null,
   "metadata": {},
   "outputs": [],
   "source": [
    "# Callback for geometry selection\n",
    "def on_geometry_selected(geometry_handler):\n",
    "    global geometry_complete\n",
    "    geometry_complete = True\n",
    "    print(\"Geometry selected. Now you can select a dataset.\")\n",
    "    dataset_picker.display()\n",
    "\n",
    "# Initialize map widget\n",
    "map_widget = MapWidget(on_geometry_selected=on_geometry_selected)\n",
    "\n",
    "# Don't display yet - wait for authentication"
   ]
  },
  {
   "cell_type": "markdown",
   "metadata": {},
   "source": [
    "## 3. Dataset and Band Selection\n",
    "\n",
    "After selecting an area, you can choose a dataset and the specific bands you want to download."
   ]
  },
  {
   "cell_type": "code",
   "execution_count": null,
   "metadata": {},
   "outputs": [],
   "source": [
    "# Callback for dataset selection\n",
    "def on_dataset_selected(dataset):\n",
    "    global dataset_selected, current_dataset, snippet_type\n",
    "    dataset_selected = True\n",
    "    current_dataset = dataset\n",
    "    snippet_type = dataset.get('Snippet Type')\n",
    "    # Update band picker and time slider with the selected dataset\n",
    "    band_picker.set_dataset(dataset)\n",
    "    time_slider.set_dataset(dataset)\n",
    "    print(f'Selected dataset: {dataset.get(\"Dataset Name\")} ({snippet_type})')\n",
    "    print(\"Please select the bands you want to download.\")\n",
    "    band_picker.display()\n",
    "\n",
    "# Callback for band selection\n",
    "def on_bands_selected(bands):\n",
    "    global bands_selected, selected_bands\n",
    "    bands_selected = True\n",
    "    selected_bands = bands\n",
    "    print(f'Selected bands: {, join(bands)}')\n",
    "    print(\"Now please select the time range.\")\n",
    "    # Show time slider for ImageCollections, or the download dialog for single Images\n",
    "    if snippet_type == 'ImageCollection':\n",
    "        time_slider.display()\n",
    "    else:\n",
    "        initialize_download_dialog()\n",
    "\n",
    "# Initialize dataset picker widget\n",
    "dataset_picker = DatasetPickerWidget(metadata_catalog, on_dataset_selected=on_dataset_selected)\n",
    "# Initialize band picker widget\n",
    "band_picker = BandPickerWidget(metadata_catalog, on_bands_selected=on_bands_selected)\n",
    "\n",
    "# Don't display yet - wait for geometry selection"
   ]
  },
  {
   "cell_type": "markdown",
   "metadata": {},
   "source": [
    "## 4. Time Range Selection\n",
    "\n",
    "For ImageCollections, select the time range for which you want to download data."
   ]
  },
  {
   "cell_type": "code",
   "execution_count": null,
   "metadata": {},
   "outputs": [],
   "source": [
    "# Callback for date range selection\n",
    "def on_dates_selected(start_d, end_d):\n",
    "    global dates_selected, start_date, end_date\n",
    "    dates_selected = True\n",
    "    start_date = start_d\n",
    "    end_date = end_d\n",
    "    print(f'Selected time range: {start_date} to {end_date}')\n",
    "    print(\"Now you can configure the download.\")\n",
    "    initialize_download_dialog()\n",
    "\n",
    "# Initialize time slider widget\n",
    "time_slider = TimeSliderWidget(metadata_catalog, on_dates_selected=on_dates_selected)\n",
    "\n",
    "# Don't display yet - wait for band selection"
   ]
  },
  {
   "cell_type": "markdown",
   "metadata": {},
   "source": [
    "## 5. Download Configuration and Execution\n",
    "\n",
    "Finally, configure the download parameters and start the download process."
   ]
  },
  {
   "cell_type": "code",
   "execution_count": null,
   "metadata": {},
   "outputs": [],
   "source": [
    "# Callback for download completion\n",
    "def on_download_complete():\n",
    "    print(\"Download complete!\")\n",
    "    print(f'File saved to: {download_path}')\n",
    "\n",
    "# Initialize download dialog\n",
    "def initialize_download_dialog():\n",
    "    global download_dialog\n",
    "    # Initialize the download dialog\n",
    "    download_dialog = DownloadDialogWidget(\n",
    "        metadata_catalog, \n",
    "        geometry_handler, \n",
    "        on_download_complete=on_download_complete\n",
    "    )` \n",
    "    \n",
    "    # Set parameters based on previous selections\n",
    "    dataset_name = current_dataset.get('Dataset Name')\n",
    "    ee_id = current_dataset.get('Earth Engine ID')\n",
    "    download_dialog.set_parameters(\n",
    "        dataset_name, \n",
    "        ee_id, \n",
    "        selected_bands, \n",
    "        start_date, \n",
    "        end_date\n",
    "    )\n",
    "    \n",
    "    # Display the download dialog\n",
    "    download_dialog.display()\n",
    "\n",
    "# Implemented on-demand in previous cells"
   ]
  },
  {
   "cell_type": "markdown",
   "metadata": {},
   "source": [
    "## Example: Downloading ERA5 Precipitation Data\n",
    "\n",
    "Follow these steps to download ERA5 precipitation data:\n",
    "\n",
    "1. First, authenticate with your GEE Project ID\n",
    "2. Draw a polygon on the map and click 'Save Selection'\n",
    "3. Select 'precipitation' from the category dropdown and choose 'ERA5 Daily Aggregates'\n",
    "4. Select the 'total_precipitation' band\n",
    "5. Choose a date range (e.g., the last month)\n",
    "6. Set extraction mode to 'Average time-series' and click 'Start Download'"
   ]
  },
  {
   "cell_type": "markdown",
   "metadata": {},
   "source": [
    "## Additional Usage Notes\n",
    "\n",
    "- For static rasters (e.g., DEM), you can skip the time range selection\n",
    "- You can export data directly to your local disk or to Google Drive\n",
    "- For large areas or long time series, use 'Export to Google Drive' \n",
    "- The 'Gridded rasters' extraction mode provides pixel-level data"
   ]
  }
 ],
 "metadata": {
  "kernelspec": {
   "display_name": "orise_compare",
   "language": "python",
   "name": "python3"
  },
  "language_info": {
   "codemirror_mode": {
    "name": "ipython",
    "version": 3
   },
   "file_extension": ".py",
   "mimetype": "text/x-python",
   "name": "python",
   "nbconvert_exporter": "python",
   "pygments_lexer": "ipython3",
   "version": "3.13.2"
  }
 },
 "nbformat": 4,
 "nbformat_minor": 4
}
